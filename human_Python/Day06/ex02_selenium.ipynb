{
 "cells": [
  {
   "attachments": {},
   "cell_type": "markdown",
   "metadata": {},
   "source": [
    "### 셀레니움 설치 및 드라이버 실행"
   ]
  },
  {
   "cell_type": "code",
   "execution_count": null,
   "metadata": {},
   "outputs": [],
   "source": [
    "# 셀레니움 설치\n",
    "pip install selenium\n",
    "\n",
    "# 설치 확인\n",
    "pip show selenium"
   ]
  },
  {
   "attachments": {},
   "cell_type": "markdown",
   "metadata": {},
   "source": [
    "### Webdriver 실행하기"
   ]
  },
  {
   "cell_type": "code",
   "execution_count": 10,
   "metadata": {},
   "outputs": [
    {
     "name": "stdout",
     "output_type": "stream",
     "text": [
      "WebDriver 객체 : <class 'selenium.webdriver.chrome.webdriver.WebDriver'>\n"
     ]
    }
   ],
   "source": [
    "from selenium import webdriver\n",
    "driver = webdriver.Chrome() # selenium 4.10\n",
    "print(\"WebDriver 객체 :\", type(driver))"
   ]
  },
  {
   "attachments": {},
   "cell_type": "markdown",
   "metadata": {},
   "source": [
    "### 구글 url 로 이동하기"
   ]
  },
  {
   "cell_type": "code",
   "execution_count": 11,
   "metadata": {},
   "outputs": [],
   "source": [
    "driver.get('http://www.google.com')"
   ]
  },
  {
   "attachments": {},
   "cell_type": "markdown",
   "metadata": {},
   "source": [
    "### 구글 검색창에 \"파이썬\" 입력하기"
   ]
  },
  {
   "cell_type": "code",
   "execution_count": 4,
   "metadata": {},
   "outputs": [
    {
     "name": "stdout",
     "output_type": "stream",
     "text": [
      "검색창 객체 :  <class 'selenium.webdriver.remote.webelement.WebElement'>\n"
     ]
    }
   ],
   "source": [
    "from selenium.webdriver.common.by import By\n",
    "\n",
    "# find_element( 선택 방식, 조건 ) : 요소를 찾아서 가져오는 함수\n",
    "target = driver.find_element( By.CSS_SELECTOR, \"[name='q']\" )       # 구글 검색창\n",
    "print('검색창 객체 : ', type(target))\n",
    "\n",
    "# send_keys('입력값') : 입력값을 지정한 요소(target)\n",
    "target.send_keys('파이썬')\n",
    "\n",
    "\n",
    "\n"
   ]
  },
  {
   "attachments": {},
   "cell_type": "markdown",
   "metadata": {},
   "source": [
    "## 구글 검색창에서 엔터 키 입력하기"
   ]
  },
  {
   "cell_type": "code",
   "execution_count": 5,
   "metadata": {},
   "outputs": [],
   "source": [
    "from selenium.webdriver.common.keys import Keys\n",
    "\n",
    "# target : 구글 검색창\n",
    "target.send_keys( Keys.ENTER )"
   ]
  },
  {
   "attachments": {},
   "cell_type": "markdown",
   "metadata": {},
   "source": [
    "### 웹 드라이버 종료"
   ]
  },
  {
   "cell_type": "code",
   "execution_count": 6,
   "metadata": {},
   "outputs": [],
   "source": [
    "driver.quit()"
   ]
  },
  {
   "attachments": {},
   "cell_type": "markdown",
   "metadata": {},
   "source": [
    "### 네이버 검색창에 \"여름\" 이라고 검색하기"
   ]
  },
  {
   "cell_type": "code",
   "execution_count": 15,
   "metadata": {},
   "outputs": [],
   "source": [
    "from selenium import webdriver\n",
    "from selenium.webdriver.common.keys import Keys\n",
    "from selenium.webdriver.common.by import By\n",
    "import time\n",
    "driver = webdriver.Chrome()\n",
    "\n",
    "# url 이동\n",
    "driver.get('http://www.naver.com')\n",
    "time.sleep(2)       # 2초간 기다리기\n",
    "# 검색창 선택\n",
    "target = driver.find_element( By.CSS_SELECTOR, '#query' )       # 구글 검색창\n",
    "# 검색어 \"여름 \" 입력\n",
    "target.send_keys('여름')\n",
    "# 엔터 키 입력\n",
    "target.send_keys( Keys.ENTER )\n",
    "\n",
    "\n",
    "\n"
   ]
  },
  {
   "attachments": {},
   "cell_type": "markdown",
   "metadata": {},
   "source": [
    "### find_element() 함수 활용"
   ]
  },
  {
   "cell_type": "code",
   "execution_count": 1,
   "metadata": {},
   "outputs": [],
   "source": [
    "from selenium import webdriver\n",
    "from selenium.webdriver.common.keys import Keys\n",
    "from selenium.webdriver.common.by import By\n"
   ]
  },
  {
   "cell_type": "code",
   "execution_count": 2,
   "metadata": {},
   "outputs": [],
   "source": [
    "# 드라이버 실행\n",
    "driver = webdriver.Chrome()\n",
    "driver.get('http://www.naver.com')"
   ]
  },
  {
   "cell_type": "code",
   "execution_count": null,
   "metadata": {},
   "outputs": [],
   "source": [
    "# ID 선택\n",
    "target = driver.find_element( By.ID, 'query' )"
   ]
  },
  {
   "cell_type": "code",
   "execution_count": null,
   "metadata": {},
   "outputs": [],
   "source": [
    "# class 선택\n",
    "target = driver.find_element( By.CLASS_NAME, 'search_input' )"
   ]
  },
  {
   "cell_type": "code",
   "execution_count": null,
   "metadata": {},
   "outputs": [],
   "source": [
    "# CSS 선택자\n",
    "target = driver.find_element( By.CSS_SELECTOR, '#query' )"
   ]
  },
  {
   "cell_type": "code",
   "execution_count": null,
   "metadata": {},
   "outputs": [],
   "source": [
    "# 태그 이름 선택\n",
    "target = driver.find_element( By.TAG_NAME, 'title' )"
   ]
  },
  {
   "cell_type": "code",
   "execution_count": null,
   "metadata": {},
   "outputs": [],
   "source": [
    "# 선택한 요소에 키 입력\n",
    "target.send_keys('키워드')"
   ]
  },
  {
   "cell_type": "code",
   "execution_count": null,
   "metadata": {},
   "outputs": [],
   "source": [
    "# 선택한 요소에 엔터 키\n",
    "target.send_keys(Keys.ENTER)"
   ]
  },
  {
   "attachments": {},
   "cell_type": "markdown",
   "metadata": {},
   "source": [
    "### 버튼 클릭하기"
   ]
  },
  {
   "cell_type": "code",
   "execution_count": 3,
   "metadata": {},
   "outputs": [],
   "source": [
    "target = driver.find_element( By.CSS_SELECTOR, '[class^=\"MyView-module__link_login\"]' )\n",
    "target.click()\n"
   ]
  },
  {
   "attachments": {},
   "cell_type": "markdown",
   "metadata": {},
   "source": [
    "# 페이징 처리된 데이터 크롤링하기 - 메가박스 영화 실관람평"
   ]
  },
  {
   "cell_type": "code",
   "execution_count": null,
   "metadata": {},
   "outputs": [],
   "source": [
    "from selenium import webdriver\n",
    "from selenium.webdriver.common.keys import Keys\n",
    "from selenium.webdriver.common.by import By\n",
    "import time\n",
    "\n",
    "url = 'https://www.megabox.co.kr/movie-detail/comment?rpstMovieNo=23034900'\n",
    "driver = webdriver.Chrome()\n",
    "driver.get(url)\n",
    "\n",
    "points = []\n",
    "recommends = []\n",
    "texts = []\n",
    "\n",
    "# 1 페이지 정보\n",
    "# extend() : 리스트에 다른 리스트의 모든 요소 추가\n",
    "story_points = [p.text for p in driver.find_elements( By.CLASS_NAME, 'story-point' )]\n",
    "points.extend(story_points)\n",
    "\n",
    "story_recommends = [r.text for r in driver.find_elements( By.CLASS_NAME, 'story-recommend' )]\n",
    "recommends.extend(story_recommends)\n",
    "\n",
    "story_txts = [t.text for t in driver.find_elements( By.CLASS_NAME, 'story-txt' )]\n",
    "texts.extend(story_txts)\n",
    "\n",
    "print(points)\n",
    "print(recommends)\n",
    "print(texts)\n",
    "print(len(points))\n",
    "print(len(recommends))\n",
    "print(len(texts))\n",
    "\n",
    "# 2~20 페이지 정보 동적으로 크롤링하기\n",
    "for page in range(2,21):\n",
    "    \n",
    "    if page % 10 == 1:      # 11, 21, 31, ...\n",
    "        page_next = driver.find_element( By.CSS_SELECTOR, '.control.next' )\n",
    "        page_next.click()\n",
    "    else:\n",
    "        page_next = driver.find_element( By.LINK_TEXT, str(page) )\n",
    "        page_next.click()\n",
    "       \n",
    "    driver.implicitly_wait(3)       # 페이지 로딩 시, 최대 3초간 기다리고 바로 넘어감\n",
    "    time.sleep(2)                   # 2초간 기다림\n",
    "    \n",
    "    # 관람평 정보 가져오기\n",
    "    story_points = [p.text for p in driver.find_elements( By.CLASS_NAME, 'story-point' )]\n",
    "    points.extend(story_points)\n",
    "\n",
    "    story_recommends = [r.text for r in driver.find_elements( By.CLASS_NAME, 'story-recommend' )]\n",
    "    recommends.extend(story_recommends)\n",
    "\n",
    "    story_txts = [t.text for t in driver.find_elements( By.CLASS_NAME, 'story-txt' )]\n",
    "    texts.extend(story_txts)\n",
    "\n",
    "\n",
    "print(len(points))\n",
    "print(len(recommends))\n",
    "print(len(texts))\n",
    "\n",
    "\n",
    "# 수집한 데이터를 csv 파일로 저장\n",
    "with open('movie.csv', 'wt', encoding='utf-8') as f:\n",
    "    f.write('평점,추천,관람평\\n')\n",
    "    for p, r, t in zip( points, recommends, texts ):\n",
    "        f.write('{},{},{}'.format( p, r, t ) + '\\n')\n"
   ]
  },
  {
   "cell_type": "code",
   "execution_count": null,
   "metadata": {},
   "outputs": [],
   "source": [
    "# a 태그의 텍스트로 요소를 선택\n",
    "page_two = driver.find_element( By.LINK_TEXT, str(2) )\n",
    "page_two.click()"
   ]
  },
  {
   "attachments": {},
   "cell_type": "markdown",
   "metadata": {},
   "source": [
    "### 무한 스크롤 페이지 크롤링 하기"
   ]
  },
  {
   "cell_type": "code",
   "execution_count": 2,
   "metadata": {},
   "outputs": [
    {
     "name": "stdout",
     "output_type": "stream",
     "text": [
      "10\n",
      "10\n",
      "오븐마루치킨 병무청점,치킨,닭강정\n",
      "교촌치킨 문래점,치킨,닭강정\n",
      "양키통닭 본점,맥주,호프\n",
      "농부와닭동네 여의도MBC점,치킨,닭강정\n",
      "감계무량 당산본점,치킨,닭강정\n",
      "이목구비,맥주,호프\n",
      "양키통닭,치킨,닭강정\n",
      "어거스트치킨 여의도점,치킨,닭강정\n",
      "쥬크비어,맥주,호프\n",
      "참나라숯불바베큐치킨통닭,치킨,닭강정\n",
      "————————————\n",
      "10\n",
      "10\n",
      "BBQ여의도역점,치킨,닭강정\n",
      "옛날통닭,치킨,닭강정\n",
      "당산별곡,요리주점\n",
      "코펜호프,맥주,호프\n",
      "가마호프,맥주,호프\n",
      "꼬꼬야숯불뜨겁니,치킨,닭강정\n",
      "아트몬스터 영등포점,맥주,호프\n",
      "마늘치킨OB광장,치킨,닭강정\n",
      "교촌치킨 당산점,치킨,닭강정\n",
      "푸라닭 대방점,치킨,닭강정\n",
      "————————————\n",
      "10\n",
      "10\n",
      "선식당 문래점,스파게티,파스타전문\n",
      "삼통치킨 영등포구청점,치킨,닭강정\n",
      "BBQ치킨 영등포점,치킨,닭강정\n",
      "BHC치킨 당산점,치킨,닭강정\n",
      "청년치킨 당산점,치킨,닭강정\n",
      "BHC치킨 문래점,치킨,닭강정\n",
      "굽네치킨 문래점,치킨,닭강정\n",
      "금별맥주 당산점,맥주,호프\n",
      "네네치킨 여의도점,치킨,닭강정\n",
      "펀비어킹 영등포 당산역점,맥주,호프\n",
      "————————————\n",
      "10\n",
      "10\n",
      "페리카나 신풍시장점,치킨,닭강정\n",
      "치킨플러스 당산점,치킨,닭강정\n",
      "잉치킨 양평역점,치킨,닭강정\n",
      "BHC치킨 영등포공원점,치킨,닭강정\n",
      "BHC치킨 양평역점,치킨,닭강정\n",
      "치킨마루 신길점,치킨,닭강정\n",
      "푸라닭 당산점,치킨,닭강정\n",
      "온더보더 타임스퀘어점,멕시코,남미음식\n",
      "교촌치킨 대림2호점,치킨,닭강정\n",
      "치킨뱅이 신풍역점,치킨,닭강정\n",
      "————————————\n",
      "10\n",
      "9\n",
      "퍼스트플러스에이드,다이어트,샐러드\n",
      "르프리크캐주얼 더현대서울,햄버거\n",
      "바비큐보스 도림사거리점,치킨,닭강정\n",
      "헤밀파스타,스파게티,파스타전문\n",
      "알로하포케 IFC몰점,다이어트,샐러드\n",
      "코지마,이자카야\n",
      "아이엠바오 더현대 서울,햄버거\n",
      "버거플리즈 BRGR PLZ,샌드위치\n",
      "써브웨이 여의도화재보험점,인도음식\n"
     ]
    },
    {
     "ename": "IndexError",
     "evalue": "list index out of range",
     "output_type": "error",
     "traceback": [
      "\u001b[1;31m---------------------------------------------------------------------------\u001b[0m",
      "\u001b[1;31mIndexError\u001b[0m                                Traceback (most recent call last)",
      "Cell \u001b[1;32mIn[2], line 35\u001b[0m\n\u001b[0;32m     31\u001b[0m     \u001b[39mbreak\u001b[39;00m\n\u001b[0;32m     34\u001b[0m \u001b[39mfor\u001b[39;00m i \u001b[39min\u001b[39;00m \u001b[39mrange\u001b[39m(\u001b[39mlen\u001b[39m(names)):\n\u001b[1;32m---> 35\u001b[0m     \u001b[39mprint\u001b[39m(\u001b[39m'\u001b[39m\u001b[39m{}\u001b[39;00m\u001b[39m,\u001b[39m\u001b[39m{}\u001b[39;00m\u001b[39m'\u001b[39m\u001b[39m.\u001b[39mformat(names[i]\u001b[39m.\u001b[39mtext, categories[i]\u001b[39m.\u001b[39mtext))\n\u001b[0;32m     37\u001b[0m \u001b[39mprint\u001b[39m(\u001b[39m'\u001b[39m\u001b[39m————————————\u001b[39m\u001b[39m'\u001b[39m)\n\u001b[0;32m     39\u001b[0m \u001b[39m# 스크롤 내리기\u001b[39;00m\n",
      "\u001b[1;31mIndexError\u001b[0m: list index out of range"
     ]
    }
   ],
   "source": [
    "from selenium import webdriver\n",
    "from selenium.webdriver.common.by import By\n",
    "from selenium.webdriver.common.keys import Keys\n",
    "import time\n",
    "\n",
    "driver = webdriver.Chrome()\n",
    "driver.get('http://map.naver.com')\n",
    "\n",
    "driver.implicitly_wait(2)\n",
    "\n",
    "# 검색창에 영등포 치킨\"\n",
    "target = driver.find_element(By.CSS_SELECTOR, \".input_search\")\n",
    "\n",
    "target.send_keys(\"영등포 치킨\")\n",
    "target.send_keys(Keys.ENTER)\n",
    "\n",
    "\n",
    "# 프레임 변경하기\n",
    "driver.switch_to.frame(\"searchIframe\")   #iframe 태그의 id로 프레임 전환\n",
    "\n",
    "while True:\n",
    "    names = driver.find_elements( By.CSS_SELECTOR, \".place_bluelink\")\n",
    "    #addrs = driver.find_elements( By.CSS_SELECTOR, \"\")\n",
    "    categories = driver.find_elements( By.CSS_SELECTOR, \".KCMnt\")\n",
    "    \n",
    "    print(len(names))\n",
    "    print(len(categories))\n",
    "    \n",
    "    if len(names) == 0:\n",
    "        print('데이터가 없습니다…')\n",
    "        break\n",
    "\n",
    "    \n",
    "    for i in range(len(names)):\n",
    "        print('{},{}'.format(names[i].text, categories[i].text))\n",
    "        \n",
    "    print('————————————')\n",
    "    \n",
    "    # 스크롤 내리기\n",
    "    selector = '#app-root > div > div.XUrfU > div.zRM9F > a:nth-child(7)'\n",
    "    try:\n",
    "        btn_next = driver.find_element(By.CSS_SELECTOR, selector)\n",
    "    \n",
    "    except:\n",
    "        print('마지막 페이지 입니다…')\n",
    "        break\n",
    "    btn_next.click()\n",
    "    time.sleep(3)"
   ]
  },
  {
   "attachments": {},
   "cell_type": "markdown",
   "metadata": {},
   "source": [
    "### 자바스크립트를 이용하여 처리하기"
   ]
  },
  {
   "cell_type": "code",
   "execution_count": 3,
   "metadata": {},
   "outputs": [],
   "source": [
    "driver.execute_script(' alert(\"js\") ')"
   ]
  },
  {
   "cell_type": "code",
   "execution_count": null,
   "metadata": {},
   "outputs": [],
   "source": [
    "# yes24 리뷰 가져오기."
   ]
  },
  {
   "cell_type": "code",
   "execution_count": 3,
   "metadata": {},
   "outputs": [
    {
     "ename": "NoSuchWindowException",
     "evalue": "Message: no such window: target window already closed\nfrom unknown error: web view not found\n  (Session info: chrome=114.0.5735.134)\nStacktrace:\nBacktrace:\n\tGetHandleVerifier [0x00A1A813+48355]\n\t(No symbol) [0x009AC4B1]\n\t(No symbol) [0x008B5358]\n\t(No symbol) [0x0089D293]\n\t(No symbol) [0x008FE37B]\n\t(No symbol) [0x0090C473]\n\t(No symbol) [0x008FA536]\n\t(No symbol) [0x008D82DC]\n\t(No symbol) [0x008D93DD]\n\tGetHandleVerifier [0x00C7AABD+2539405]\n\tGetHandleVerifier [0x00CBA78F+2800735]\n\tGetHandleVerifier [0x00CB456C+2775612]\n\tGetHandleVerifier [0x00AA51E0+616112]\n\t(No symbol) [0x009B5F8C]\n\t(No symbol) [0x009B2328]\n\t(No symbol) [0x009B240B]\n\t(No symbol) [0x009A4FF7]\n\tBaseThreadInitThunk [0x754000C9+25]\n\tRtlGetAppContainerNamedObjectPath [0x774C7B4E+286]\n\tRtlGetAppContainerNamedObjectPath [0x774C7B1E+238]\n",
     "output_type": "error",
     "traceback": [
      "\u001b[1;31m---------------------------------------------------------------------------\u001b[0m",
      "\u001b[1;31mNoSuchWindowException\u001b[0m                     Traceback (most recent call last)",
      "Cell \u001b[1;32mIn[3], line 23\u001b[0m\n\u001b[0;32m     19\u001b[0m readmores \u001b[39m=\u001b[39m driver\u001b[39m.\u001b[39mfind_elements( By\u001b[39m.\u001b[39mCSS_SELECTOR, \u001b[39m'\u001b[39m\u001b[39m#infoset_reviewContentList .review_more\u001b[39m\u001b[39m'\u001b[39m )\n\u001b[0;32m     20\u001b[0m \u001b[39mfor\u001b[39;00m more \u001b[39min\u001b[39;00m readmores:\n\u001b[0;32m     21\u001b[0m     \u001b[39m# more.click()\u001b[39;00m\n\u001b[0;32m     22\u001b[0m     \u001b[39m# arguments[0] : more 요소를 가지고 arguments[0]로 첫번째 요소를 지정.\u001b[39;00m\n\u001b[1;32m---> 23\u001b[0m     driver\u001b[39m.\u001b[39;49mexecute_script(\u001b[39m'\u001b[39;49m\u001b[39marguments[0].click()\u001b[39;49m\u001b[39m'\u001b[39;49m, more)\n\u001b[0;32m     24\u001b[0m     time\u001b[39m.\u001b[39msleep(\u001b[39m2\u001b[39m)\n\u001b[0;32m     26\u001b[0m reviewList \u001b[39m=\u001b[39m driver\u001b[39m.\u001b[39mfind_elements( By\u001b[39m.\u001b[39mCSS_SELECTOR, \u001b[39m'\u001b[39m\u001b[39m#infoset_reviewContentList div.review_cont\u001b[39m\u001b[39m'\u001b[39m )     \u001b[39m# 리뷰 내용\u001b[39;00m\n",
      "File \u001b[1;32mc:\\Users\\User\\AppData\\Local\\Programs\\Python\\Python311\\Lib\\site-packages\\selenium\\webdriver\\remote\\webdriver.py:406\u001b[0m, in \u001b[0;36mWebDriver.execute_script\u001b[1;34m(self, script, *args)\u001b[0m\n\u001b[0;32m    403\u001b[0m converted_args \u001b[39m=\u001b[39m \u001b[39mlist\u001b[39m(args)\n\u001b[0;32m    404\u001b[0m command \u001b[39m=\u001b[39m Command\u001b[39m.\u001b[39mW3C_EXECUTE_SCRIPT\n\u001b[1;32m--> 406\u001b[0m \u001b[39mreturn\u001b[39;00m \u001b[39mself\u001b[39;49m\u001b[39m.\u001b[39;49mexecute(command, {\u001b[39m\"\u001b[39;49m\u001b[39mscript\u001b[39;49m\u001b[39m\"\u001b[39;49m: script, \u001b[39m\"\u001b[39;49m\u001b[39margs\u001b[39;49m\u001b[39m\"\u001b[39;49m: converted_args})[\u001b[39m\"\u001b[39m\u001b[39mvalue\u001b[39m\u001b[39m\"\u001b[39m]\n",
      "File \u001b[1;32mc:\\Users\\User\\AppData\\Local\\Programs\\Python\\Python311\\Lib\\site-packages\\selenium\\webdriver\\remote\\webdriver.py:346\u001b[0m, in \u001b[0;36mWebDriver.execute\u001b[1;34m(self, driver_command, params)\u001b[0m\n\u001b[0;32m    344\u001b[0m response \u001b[39m=\u001b[39m \u001b[39mself\u001b[39m\u001b[39m.\u001b[39mcommand_executor\u001b[39m.\u001b[39mexecute(driver_command, params)\n\u001b[0;32m    345\u001b[0m \u001b[39mif\u001b[39;00m response:\n\u001b[1;32m--> 346\u001b[0m     \u001b[39mself\u001b[39;49m\u001b[39m.\u001b[39;49merror_handler\u001b[39m.\u001b[39;49mcheck_response(response)\n\u001b[0;32m    347\u001b[0m     response[\u001b[39m\"\u001b[39m\u001b[39mvalue\u001b[39m\u001b[39m\"\u001b[39m] \u001b[39m=\u001b[39m \u001b[39mself\u001b[39m\u001b[39m.\u001b[39m_unwrap_value(response\u001b[39m.\u001b[39mget(\u001b[39m\"\u001b[39m\u001b[39mvalue\u001b[39m\u001b[39m\"\u001b[39m, \u001b[39mNone\u001b[39;00m))\n\u001b[0;32m    348\u001b[0m     \u001b[39mreturn\u001b[39;00m response\n",
      "File \u001b[1;32mc:\\Users\\User\\AppData\\Local\\Programs\\Python\\Python311\\Lib\\site-packages\\selenium\\webdriver\\remote\\errorhandler.py:245\u001b[0m, in \u001b[0;36mErrorHandler.check_response\u001b[1;34m(self, response)\u001b[0m\n\u001b[0;32m    243\u001b[0m         alert_text \u001b[39m=\u001b[39m value[\u001b[39m\"\u001b[39m\u001b[39malert\u001b[39m\u001b[39m\"\u001b[39m]\u001b[39m.\u001b[39mget(\u001b[39m\"\u001b[39m\u001b[39mtext\u001b[39m\u001b[39m\"\u001b[39m)\n\u001b[0;32m    244\u001b[0m     \u001b[39mraise\u001b[39;00m exception_class(message, screen, stacktrace, alert_text)  \u001b[39m# type: ignore[call-arg]  # mypy is not smart enough here\u001b[39;00m\n\u001b[1;32m--> 245\u001b[0m \u001b[39mraise\u001b[39;00m exception_class(message, screen, stacktrace)\n",
      "\u001b[1;31mNoSuchWindowException\u001b[0m: Message: no such window: target window already closed\nfrom unknown error: web view not found\n  (Session info: chrome=114.0.5735.134)\nStacktrace:\nBacktrace:\n\tGetHandleVerifier [0x00A1A813+48355]\n\t(No symbol) [0x009AC4B1]\n\t(No symbol) [0x008B5358]\n\t(No symbol) [0x0089D293]\n\t(No symbol) [0x008FE37B]\n\t(No symbol) [0x0090C473]\n\t(No symbol) [0x008FA536]\n\t(No symbol) [0x008D82DC]\n\t(No symbol) [0x008D93DD]\n\tGetHandleVerifier [0x00C7AABD+2539405]\n\tGetHandleVerifier [0x00CBA78F+2800735]\n\tGetHandleVerifier [0x00CB456C+2775612]\n\tGetHandleVerifier [0x00AA51E0+616112]\n\t(No symbol) [0x009B5F8C]\n\t(No symbol) [0x009B2328]\n\t(No symbol) [0x009B240B]\n\t(No symbol) [0x009A4FF7]\n\tBaseThreadInitThunk [0x754000C9+25]\n\tRtlGetAppContainerNamedObjectPath [0x774C7B4E+286]\n\tRtlGetAppContainerNamedObjectPath [0x774C7B1E+238]\n"
     ]
    }
   ],
   "source": [
    "### 요소가 렌더링 될 때까지, 기다렸다가 처리하기\n",
    "from selenium import webdriver\n",
    "from selenium.webdriver.common.by import By\n",
    "from selenium.webdriver.common.keys import Keys\n",
    "import time\n",
    "\n",
    "url = 'https://www.yes24.com/Product/Goods/117014613'\n",
    "driver = webdriver.Chrome()\n",
    "driver.get(url)\n",
    "\n",
    "temp_list = []\n",
    "time.sleep(3)\n",
    "stop_flag = False\n",
    "\n",
    "while True:\n",
    "    \n",
    "    # 페이지 반복\n",
    "    for n in range(4, 13):\n",
    "        readmores = driver.find_elements( By.CSS_SELECTOR, '#infoset_reviewContentList .review_more' )\n",
    "        for more in readmores:\n",
    "            # more.click()\n",
    "            # arguments[0] : more 요소를 가지고 arguments[0]로 첫번째 요소를 지정.\n",
    "            driver.execute_script('arguments[0].click()', more)\n",
    "            time.sleep(2)\n",
    "        \n",
    "        reviewList = driver.find_elements( By.CSS_SELECTOR, '#infoset_reviewContentList div.review_cont' )     # 리뷰 내용\n",
    "        time.sleep(2)\n",
    "        \n",
    "        \n",
    "        # 리뷰 내용 태그의 텍스트만 추출\n",
    "        for review in reviewList:\n",
    "            temp_list.append(review.text)\n",
    "        \n",
    "        \n",
    "        if len(reviewList) < 5:\n",
    "            stop_flag = True\n",
    "        \n",
    "        if stop_flag == True:\n",
    "            break\n",
    "        \n",
    "        \n",
    "        # 다음 페이지로 이동\n",
    "        next_link = '#infoset_reviewContentList > div.review_sort.sortBot > div.review_sortLft > div > a:nth-child(' + str(n) +')'\n",
    "        page = driver.find_element( By.CSS_SELECTOR, next_link )\n",
    "        page.click()\n",
    "        time.sleep(2)\n",
    "        \n",
    "        \n",
    "        \n",
    "        \n",
    "        \n",
    "        \n",
    "        \n",
    "        \n",
    "        \n",
    "        \n",
    "        \n",
    "        \n",
    "        \n",
    "        \n",
    "        "
   ]
  }
 ],
 "metadata": {
  "kernelspec": {
   "display_name": "Python 3",
   "language": "python",
   "name": "python3"
  },
  "language_info": {
   "codemirror_mode": {
    "name": "ipython",
    "version": 3
   },
   "file_extension": ".py",
   "mimetype": "text/x-python",
   "name": "python",
   "nbconvert_exporter": "python",
   "pygments_lexer": "ipython3",
   "version": "3.11.4"
  },
  "orig_nbformat": 4
 },
 "nbformat": 4,
 "nbformat_minor": 2
}
