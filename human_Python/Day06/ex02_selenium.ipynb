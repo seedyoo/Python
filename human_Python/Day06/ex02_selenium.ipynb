{
 "cells": [
  {
   "attachments": {},
   "cell_type": "markdown",
   "metadata": {},
   "source": [
    "### 셀레니움 설치 및 드라이버 실행"
   ]
  },
  {
   "cell_type": "code",
   "execution_count": null,
   "metadata": {},
   "outputs": [],
   "source": [
    "# 셀레니움 설치\n",
    "pip install selenium\n",
    "\n",
    "# 설치 확인\n",
    "pip show selenium"
   ]
  },
  {
   "attachments": {},
   "cell_type": "markdown",
   "metadata": {},
   "source": [
    "### Webdriver 실행하기"
   ]
  },
  {
   "cell_type": "code",
   "execution_count": 10,
   "metadata": {},
   "outputs": [
    {
     "name": "stdout",
     "output_type": "stream",
     "text": [
      "WebDriver 객체 : <class 'selenium.webdriver.chrome.webdriver.WebDriver'>\n"
     ]
    }
   ],
   "source": [
    "from selenium import webdriver\n",
    "driver = webdriver.Chrome() # selenium 4.10\n",
    "print(\"WebDriver 객체 :\", type(driver))"
   ]
  },
  {
   "attachments": {},
   "cell_type": "markdown",
   "metadata": {},
   "source": [
    "### 구글 url 로 이동하기"
   ]
  },
  {
   "cell_type": "code",
   "execution_count": 11,
   "metadata": {},
   "outputs": [],
   "source": [
    "driver.get('http://www.google.com')"
   ]
  },
  {
   "attachments": {},
   "cell_type": "markdown",
   "metadata": {},
   "source": [
    "### 구글 검색창에 \"파이썬\" 입력하기"
   ]
  },
  {
   "cell_type": "code",
   "execution_count": 4,
   "metadata": {},
   "outputs": [
    {
     "name": "stdout",
     "output_type": "stream",
     "text": [
      "검색창 객체 :  <class 'selenium.webdriver.remote.webelement.WebElement'>\n"
     ]
    }
   ],
   "source": [
    "from selenium.webdriver.common.by import By\n",
    "\n",
    "# find_element( 선택 방식, 조건 ) : 요소를 찾아서 가져오는 함수\n",
    "target = driver.find_element( By.CSS_SELECTOR, \"[name='q']\" )       # 구글 검색창\n",
    "print('검색창 객체 : ', type(target))\n",
    "\n",
    "# send_keys('입력값') : 입력값을 지정한 요소(target)\n",
    "target.send_keys('파이썬')\n",
    "\n",
    "\n",
    "\n"
   ]
  },
  {
   "attachments": {},
   "cell_type": "markdown",
   "metadata": {},
   "source": [
    "## 구글 검색창에서 엔터 키 입력하기"
   ]
  },
  {
   "cell_type": "code",
   "execution_count": 5,
   "metadata": {},
   "outputs": [],
   "source": [
    "from selenium.webdriver.common.keys import Keys\n",
    "\n",
    "# target : 구글 검색창\n",
    "target.send_keys( Keys.ENTER )"
   ]
  },
  {
   "attachments": {},
   "cell_type": "markdown",
   "metadata": {},
   "source": [
    "### 웹 드라이버 종료"
   ]
  },
  {
   "cell_type": "code",
   "execution_count": 6,
   "metadata": {},
   "outputs": [],
   "source": [
    "driver.quit()"
   ]
  },
  {
   "attachments": {},
   "cell_type": "markdown",
   "metadata": {},
   "source": [
    "### 네이버 검색창에 \"여름\" 이라고 검색하기"
   ]
  },
  {
   "cell_type": "code",
   "execution_count": 15,
   "metadata": {},
   "outputs": [],
   "source": [
    "from selenium import webdriver\n",
    "from selenium.webdriver.common.keys import Keys\n",
    "from selenium.webdriver.common.by import By\n",
    "import time\n",
    "driver = webdriver.Chrome()\n",
    "\n",
    "# url 이동\n",
    "driver.get('http://www.naver.com')\n",
    "time.sleep(2)       # 2초간 기다리기\n",
    "# 검색창 선택\n",
    "target = driver.find_element( By.CSS_SELECTOR, '#query' )       # 구글 검색창\n",
    "# 검색어 \"여름 \" 입력\n",
    "target.send_keys('여름')\n",
    "# 엔터 키 입력\n",
    "target.send_keys( Keys.ENTER )\n",
    "\n",
    "\n",
    "\n"
   ]
  },
  {
   "attachments": {},
   "cell_type": "markdown",
   "metadata": {},
   "source": [
    "### find_element() 함수 활용"
   ]
  },
  {
   "cell_type": "code",
   "execution_count": 1,
   "metadata": {},
   "outputs": [],
   "source": [
    "from selenium import webdriver\n",
    "from selenium.webdriver.common.keys import Keys\n",
    "from selenium.webdriver.common.by import By\n"
   ]
  },
  {
   "cell_type": "code",
   "execution_count": 2,
   "metadata": {},
   "outputs": [],
   "source": [
    "# 드라이버 실행\n",
    "driver = webdriver.Chrome()\n",
    "driver.get('http://www.naver.com')"
   ]
  },
  {
   "cell_type": "code",
   "execution_count": null,
   "metadata": {},
   "outputs": [],
   "source": [
    "# ID 선택\n",
    "target = driver.find_element( By.ID, 'query' )"
   ]
  },
  {
   "cell_type": "code",
   "execution_count": null,
   "metadata": {},
   "outputs": [],
   "source": [
    "# class 선택\n",
    "target = driver.find_element( By.CLASS_NAME, 'search_input' )"
   ]
  },
  {
   "cell_type": "code",
   "execution_count": null,
   "metadata": {},
   "outputs": [],
   "source": [
    "# CSS 선택자\n",
    "target = driver.find_element( By.CSS_SELECTOR, '#query' )"
   ]
  },
  {
   "cell_type": "code",
   "execution_count": null,
   "metadata": {},
   "outputs": [],
   "source": [
    "# 태그 이름 선택\n",
    "target = driver.find_element( By.TAG_NAME, 'title' )"
   ]
  },
  {
   "cell_type": "code",
   "execution_count": null,
   "metadata": {},
   "outputs": [],
   "source": [
    "# 선택한 요소에 키 입력\n",
    "target.send_keys('키워드')"
   ]
  },
  {
   "cell_type": "code",
   "execution_count": null,
   "metadata": {},
   "outputs": [],
   "source": [
    "# 선택한 요소에 엔터 키\n",
    "target.send_keys(Keys.ENTER)"
   ]
  },
  {
   "attachments": {},
   "cell_type": "markdown",
   "metadata": {},
   "source": [
    "### 버튼 클릭하기"
   ]
  },
  {
   "cell_type": "code",
   "execution_count": 3,
   "metadata": {},
   "outputs": [],
   "source": [
    "target = driver.find_element( By.CSS_SELECTOR, '[class^=\"MyView-module__link_login\"]' )\n",
    "target.click()\n"
   ]
  },
  {
   "attachments": {},
   "cell_type": "markdown",
   "metadata": {},
   "source": [
    "# 페이징 처리된 데이터 크롤링하기 - 메가박스 영화 실관람평"
   ]
  },
  {
   "cell_type": "code",
   "execution_count": 1,
   "metadata": {},
   "outputs": [
    {
     "name": "stdout",
     "output_type": "stream",
     "text": [
      "['10', '10', '10', '10', '10', '8', '10', '10', '9', '9']\n",
      "['스토리영상미', '연출 외+3', '연출영상미', '연출 외+2', 'OST', '연출스토리', '스토리영상미', '연출 외+2', '연출스토리', '스토리영상미']\n",
      "['어른들에게도 교훈을 주는 영화', '좋았습니다! 또 보러 갈 거 같아요~~', '조오은 애니메이션이다', '한국의 “고생” 이라는 말을 아주 적절히 담은 애니', '너무 재미있어요 나비 여름은 오지않았어', '왜 남이 정한대로 살려고 해?', '눈물나는 어른 애니.. 최고!', '역시 픽사라는 말이 저절로 나옴', '재미있게 관람했습니다.', '영상미 자체도 좋고 원소 아이디어도 좋음']\n",
      "10\n",
      "10\n",
      "10\n",
      "200\n",
      "200\n",
      "200\n"
     ]
    }
   ],
   "source": [
    "from selenium import webdriver\n",
    "from selenium.webdriver.common.keys import Keys\n",
    "from selenium.webdriver.common.by import By\n",
    "import time\n",
    "\n",
    "url = 'https://www.megabox.co.kr/movie-detail/comment?rpstMovieNo=23034900'\n",
    "driver = webdriver.Chrome()\n",
    "driver.get(url)\n",
    "\n",
    "points = []\n",
    "recommends = []\n",
    "texts = []\n",
    "\n",
    "# 1 페이지 정보\n",
    "# extend() : 리스트에 다른 리스트의 모든 요소 추가\n",
    "story_points = [p.text for p in driver.find_elements( By.CLASS_NAME, 'story-point' )]\n",
    "points.extend(story_points)\n",
    "\n",
    "story_recommends = [r.text for r in driver.find_elements( By.CLASS_NAME, 'story-recommend' )]\n",
    "recommends.extend(story_recommends)\n",
    "\n",
    "story_txts = [t.text for t in driver.find_elements( By.CLASS_NAME, 'story-txt' )]\n",
    "texts.extend(story_txts)\n",
    "\n",
    "print(points)\n",
    "print(recommends)\n",
    "print(texts)\n",
    "print(len(points))\n",
    "print(len(recommends))\n",
    "print(len(texts))\n",
    "\n",
    "# 2~20 페이지 정보 동적으로 크롤링하기\n",
    "for page in range(2,21):\n",
    "    \n",
    "    if page % 10 == 1:      # 11, 21, 31, ...\n",
    "        page_next = driver.find_element( By.CSS_SELECTOR, '.control.next' )\n",
    "        page_next.click()\n",
    "    else:\n",
    "        page_next = driver.find_element( By.LINK_TEXT, str(page) )\n",
    "        page_next.click()\n",
    "       \n",
    "    driver.implicitly_wait(3)       # 페이지 로딩 시, 최대 3초간 기다리고 바로 넘어감\n",
    "    time.sleep(2)                   # 2초간 기다림\n",
    "    \n",
    "    # 관람평 정보 가져오기\n",
    "    story_points = [p.text for p in driver.find_elements( By.CLASS_NAME, 'story-point' )]\n",
    "    points.extend(story_points)\n",
    "\n",
    "    story_recommends = [r.text for r in driver.find_elements( By.CLASS_NAME, 'story-recommend' )]\n",
    "    recommends.extend(story_recommends)\n",
    "\n",
    "    story_txts = [t.text for t in driver.find_elements( By.CLASS_NAME, 'story-txt' )]\n",
    "    texts.extend(story_txts)\n",
    "\n",
    "\n",
    "print(len(points))\n",
    "print(len(recommends))\n",
    "print(len(texts))\n",
    "\n",
    "\n",
    "# 수집한 데이터를 csv 파일로 저장\n",
    "with open('movie.csv', 'wt', encoding='utf-8') as f:\n",
    "    f.write('평점,추천,관람평\\n')\n",
    "    for p, r, t in zip( points, recommends, texts ):\n",
    "        f.write('{},{},{}'.format( p, r, t ) + '\\n')\n"
   ]
  },
  {
   "cell_type": "code",
   "execution_count": null,
   "metadata": {},
   "outputs": [],
   "source": [
    "# a 태그의 텍스트로 요소를 선택\n",
    "page_two = driver.find_element( By.LINK_TEXT, str(2) )\n",
    "page_two.click()"
   ]
  }
 ],
 "metadata": {
  "kernelspec": {
   "display_name": "Python 3",
   "language": "python",
   "name": "python3"
  },
  "language_info": {
   "codemirror_mode": {
    "name": "ipython",
    "version": 3
   },
   "file_extension": ".py",
   "mimetype": "text/x-python",
   "name": "python",
   "nbconvert_exporter": "python",
   "pygments_lexer": "ipython3",
   "version": "3.11.4"
  },
  "orig_nbformat": 4
 },
 "nbformat": 4,
 "nbformat_minor": 2
}
