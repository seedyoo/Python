{
 "cells": [
  {
   "attachments": {},
   "cell_type": "markdown",
   "metadata": {},
   "source": [
    "### BeatifulSoup 을 이용하여, 웹 스크래핑 하기"
   ]
  },
  {
   "cell_type": "code",
   "execution_count": null,
   "metadata": {},
   "outputs": [],
   "source": [
    "from bs4 import BeautifulSoup\n",
    "\n",
    "html_text = '''\n",
    "<!DOCTYPE html>\n",
    "<html lang=\"en\">\n",
    "<head>\n",
    "    <meta charset=\"UTF-8\">\n",
    "    <meta name=\"viewport\" content=\"width=device-width, initial-scale=1.0\">\n",
    "    <title>테스트</title>\n",
    "</head>\n",
    "<body>\n",
    "    <h1>제목</h1>\n",
    "    <p>문장 입니다.</p>\n",
    "    <img src=\"img/test.png\" alt=\"이미지\">\n",
    "</body>\n",
    "</html>\n",
    "'''\n",
    "\n",
    "# BeautifulSoup 객체 생성\n",
    "# - html 문서, parser 지정\n",
    "bs = BeautifulSoup(html_text, 'html.parser')\n",
    "print( type(bs) )\n",
    "print( bs.prettify() )\n"
   ]
  },
  {
   "attachments": {},
   "cell_type": "markdown",
   "metadata": {},
   "source": [
    "### 가져온 웹페이지의 태그 및 컨테츠 가져오기"
   ]
  },
  {
   "cell_type": "code",
   "execution_count": 6,
   "metadata": {},
   "outputs": [
    {
     "name": "stdout",
     "output_type": "stream",
     "text": [
      "bs.title : <title>테스트</title>\n",
      "bs.title.name : title\n",
      "bs.title.string : 테스트\n",
      "type(bs.title) : <class 'bs4.element.Tag'>\n",
      "bs.h1 : <h1>제목</h1>\n",
      "bs.p : <p>문장 입니다.</p>\n",
      "bs.img : <img alt=\"이미지\" src=\"img/test.png\"/>\n",
      "bs.img - src : img/test.png\n"
     ]
    }
   ],
   "source": [
    "from bs4 import BeautifulSoup\n",
    "\n",
    "html_text = '''\n",
    "<!DOCTYPE html>\n",
    "<html lang=\"en\">\n",
    "<head>\n",
    "    <meta charset=\"UTF-8\">\n",
    "    <meta name=\"viewport\" content=\"width=device-width, initial-scale=1.0\">\n",
    "    <title>테스트</title>\n",
    "</head>\n",
    "<body>\n",
    "    <h1>제목</h1>\n",
    "    <p>문장 입니다.</p>\n",
    "    <img src=\"img/test.png\" alt=\"이미지\">\n",
    "</body>\n",
    "</html>\n",
    "'''\n",
    "\n",
    "# BeautifulSoup 객체 생성\n",
    "# - html 문서, parser 지정\n",
    "bs = BeautifulSoup(html_text, 'html.parser')\n",
    "# print( type(bs) )\n",
    "# print( bs.prettify() )\n",
    "\n",
    "# title 태그 가져오기\n",
    "print( f'bs.title : {bs.title}' )                   # title 태그\n",
    "print( f'bs.title.name : {bs.title.name}' )         # 태그명\n",
    "print( f'bs.title.string : {bs.title.string}' )     # 태그 안의 문자열\n",
    "print( f'type(bs.title) : {type(bs.title)}' )\n",
    "\n",
    "# h1 태그 가져오기\n",
    "print( f'bs.h1 : {bs.h1}' )\n",
    "# p 태그 가져오기\n",
    "print( f'bs.p : {bs.p}' )\n",
    "# img 태그 가져오기\n",
    "print( f'bs.img : {bs.img}' )\n",
    "print( f'bs.img - src : {bs.img[\"src\"]}' )          # img 의 src 속성값\n",
    "\n",
    "\n",
    "\n"
   ]
  }
 ],
 "metadata": {
  "kernelspec": {
   "display_name": "Python 3",
   "language": "python",
   "name": "python3"
  },
  "language_info": {
   "codemirror_mode": {
    "name": "ipython",
    "version": 3
   },
   "file_extension": ".py",
   "mimetype": "text/x-python",
   "name": "python",
   "nbconvert_exporter": "python",
   "pygments_lexer": "ipython3",
   "version": "3.11.4"
  },
  "orig_nbformat": 4
 },
 "nbformat": 4,
 "nbformat_minor": 2
}
