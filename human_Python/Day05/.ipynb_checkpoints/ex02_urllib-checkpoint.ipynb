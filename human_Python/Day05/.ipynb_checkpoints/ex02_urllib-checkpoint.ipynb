{
 "cells": [
  {
   "attachments": {},
   "cell_type": "markdown",
   "metadata": {},
   "source": [
    "### 응답 정보 확인하기"
   ]
  },
  {
   "cell_type": "code",
   "execution_count": null,
   "metadata": {},
   "outputs": [],
   "source": [
    "import urllib.request\n",
    "\n",
    "url ='http://192.168.0.200:8080/board/read?boardNo=2201'\n",
    "res = urllib.request.urlopen(url)\n",
    "\n",
    "print('--------------------')\n",
    "print('응답 헤더 정보')\n",
    "res_header = res.getheaders()\n",
    "print(type(res_header))\n",
    "for header in res_header:\n",
    "    print(header)\n",
    "    \n",
    "print('응답 바디 정보')\n",
    "print( res.read().decode('utf-8') )\n"
   ]
  },
  {
   "attachments": {},
   "cell_type": "markdown",
   "metadata": {},
   "source": [
    "### 페이지의 인코딩 정보"
   ]
  },
  {
   "cell_type": "code",
   "execution_count": null,
   "metadata": {},
   "outputs": [],
   "source": [
    "import urllib.request\n",
    "\n",
    "url = 'https://www.naver.com'\n",
    "res = urllib.request.urlopen(url)\n",
    "\n",
    "print(' 응답 메시지의 정보 ')\n",
    "print( res.info() )\n",
    "print( type(res.info()) )    # http.client.HTTPMessage\n",
    "\n",
    "print(' 페이지 인코딩 정보 : ', res.info().get_content_charset() )\n"
   ]
  },
  {
   "attachments": {},
   "cell_type": "markdown",
   "metadata": {},
   "source": [
    "### 요청 데이터를 쿼리스트링으로 인코딩하기"
   ]
  },
  {
   "cell_type": "code",
   "execution_count": null,
   "metadata": {},
   "outputs": [],
   "source": [
    "import urllib.request\n",
    "\n",
    "data = { 'query' : '오늘 날씨' }\n",
    "\n",
    "params = urllib.parse.urlencode(data)   # 쿼리스트링으로 인코딩\n",
    "print(f'params : {params}')\n",
    "url = 'https://search.naver.com/search.naver?{params}'\n",
    "res = urllib.request.urlopen(url)\n",
    "print('------------------------------------')\n",
    "print('네이버에 \"오늘 날씨\" 로 검색')\n",
    "result = res.read().decode('utf-8')\n",
    "print(result)\n",
    "\n",
    "\n",
    "\n"
   ]
  },
  {
   "attachments": {},
   "cell_type": "markdown",
   "metadata": {},
   "source": [
    "### 특정 이미지 URL 주소를 요청하여 파일로 저장하기"
   ]
  },
  {
   "cell_type": "code",
   "execution_count": null,
   "metadata": {},
   "outputs": [],
   "source": [
    "import urllib.request\n",
    "\n",
    "img_url = 'https://file.mk.co.kr/meet/neds/2022/01/image_readtop_2022_47454_16423771304919381.jpg'\n",
    "file_path = 'test.jpg'\n",
    "filename, header = urllib.request.urlretrieve(img_url, file_path)\n",
    "\n",
    "print(f'filename : {filename}')\n",
    "print(f'header : {header}')"
   ]
  },
  {
   "attachments": {},
   "cell_type": "markdown",
   "metadata": {},
   "source": [
    "### PIL 패키지를 사용하여, 이미지 열어보기"
   ]
  },
  {
   "cell_type": "code",
   "execution_count": 2,
   "metadata": {},
   "outputs": [],
   "source": [
    "from PIL import Image\n",
    "img = Image.open('test.jpg')\n",
    "img.show()          # 이미지 열기"
   ]
  }
 ],
 "metadata": {
  "kernelspec": {
   "display_name": "Python 3",
   "language": "python",
   "name": "python3"
  },
  "language_info": {
   "codemirror_mode": {
    "name": "ipython",
    "version": 3
   },
   "file_extension": ".py",
   "mimetype": "text/x-python",
   "name": "python",
   "nbconvert_exporter": "python",
   "pygments_lexer": "ipython3",
   "version": "3.11.4"
  },
  "orig_nbformat": 4
 },
 "nbformat": 4,
 "nbformat_minor": 2
}
