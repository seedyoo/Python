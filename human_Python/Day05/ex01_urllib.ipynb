{
 "cells": [
  {
   "attachments": {},
   "cell_type": "markdown",
   "metadata": {},
   "source": [
    "# urllib.request 모듈\n",
    "- GET 요청\n",
    "- POST 요청\n",
    "- POST 요청 - JSON\n",
    "- PUT 요청 - JSON\n",
    "- DELETE 요청 - JSON"
   ]
  },
  {
   "attachments": {},
   "cell_type": "markdown",
   "metadata": {},
   "source": [
    "### GET 요청"
   ]
  },
  {
   "cell_type": "code",
   "execution_count": null,
   "metadata": {},
   "outputs": [],
   "source": [
    "import urllib.request\n",
    "\n",
    "# GET 요청\n",
    "response = urllib.request.urlopen('http://www.naver.com')\n",
    "\n",
    "print('-------------------------')\n",
    "print('GET 요청하기')\n",
    "print( type(response) )     # http.client.HTTPResponse 클래스\n",
    "\n",
    "# 응답 상태 코드\n",
    "print( response.status )\n",
    "\n",
    "# 응답 결과 확인 \n",
    "# - read( 바이트 수 )\n",
    "#   응답 데이터를 디코딩하지 않고 읽어온다.\n",
    "print( response.read(500) )\n",
    "# decode() 함수로 utf-8 으로 디코딩\n",
    "print( response.read(500).decode('utf-8') )"
   ]
  },
  {
   "attachments": {},
   "cell_type": "markdown",
   "metadata": {},
   "source": [
    "### POST 요청"
   ]
  },
  {
   "cell_type": "code",
   "execution_count": null,
   "metadata": {},
   "outputs": [],
   "source": [
    "import urllib.request\n",
    "data = { \n",
    "            'title' : '제목',\n",
    "            'writer' : '김휴먼',\n",
    "            'content' : '내용입니다...',\n",
    "        }\n",
    "\n",
    "# 데이터 인코딩\n",
    "data = urllib.parse.urlencode(data).encode('utf-8')\n",
    "\n",
    "url = 'http://192.168.0.200:8080/board/insert'\n",
    "req = urllib.request.Request(url, data=data, method='POST')\n",
    "res = urllib.request.urlopen(req)\n",
    "result = res.read(100).decode('utf-8')\n",
    "print('-------------------------')\n",
    "print('POST 요청하기')\n",
    "print(f'status : {res.status}')\n",
    "print(f'result : {result}')"
   ]
  },
  {
   "attachments": {},
   "cell_type": "markdown",
   "metadata": {},
   "source": [
    "### POST 요청"
   ]
  },
  {
   "cell_type": "code",
   "execution_count": null,
   "metadata": {},
   "outputs": [],
   "source": [
    "import urllib.request\n",
    "import json\n",
    "data = { \n",
    "            'title' : '제목',\n",
    "            'writer' : '김휴먼',\n",
    "            'content' : '내용입니다...',\n",
    "        }\n",
    "\n",
    "# 데이터 인코딩\n",
    "# json.dumps() : 데이터를 JSON 문자열로 변환\n",
    "json_data = json.dumps(data).encode('utf-8')\n",
    "print(f'json_data : {json_data}')\n",
    "\n",
    "url = 'http://192.168.0.200:8080/api/board'\n",
    "req = urllib.request.Request(url, data=json_data, method='POST')\n",
    "req.add_header('Content-Type', 'application/json')\n",
    "\n",
    "res = urllib.request.urlopen(req)\n",
    "result = res.read(100).decode('utf-8')\n",
    "print('-------------------------')\n",
    "print('JSON 데이터 POST 요청하기')\n",
    "print(f'status : {res.status}')\n",
    "print(f'result : {result}')"
   ]
  },
  {
   "attachments": {},
   "cell_type": "markdown",
   "metadata": {},
   "source": [
    "### PUT 요청 - JSON"
   ]
  },
  {
   "cell_type": "code",
   "execution_count": null,
   "metadata": {},
   "outputs": [],
   "source": [
    "import urllib.request\n",
    "import json\n",
    "\n",
    "url = 'http://192.168.0.200:8080/api/board'\n",
    "data = { \n",
    "            'title' : '제목',\n",
    "            'writer' : '김휴먼',\n",
    "            'content' : '내용입니다...',\n",
    "        }\n",
    "data['boardNo'] = 2000\n",
    "data['title'] = '수정 제목'\n",
    "json_data = json.dumps(data).encode('utf-8')\n",
    "req = urllib.request.Request(url, data=json_data, method='PUT')\n",
    "req.add_header('Content-Type', 'application/json')\n",
    "\n",
    "res = urllib.request.urlopen(req)\n",
    "result = res.read(100).decode('utf-8')\n",
    "print('-------------------------')\n",
    "print('JSON 데이터 PUT 요청하기')\n",
    "print(f'status : {res.status}')\n",
    "print(f'result : {result}')"
   ]
  },
  {
   "attachments": {},
   "cell_type": "markdown",
   "metadata": {},
   "source": [
    "### DELETE 요청 - JSON"
   ]
  },
  {
   "cell_type": "code",
   "execution_count": null,
   "metadata": {},
   "outputs": [],
   "source": [
    "import urllib.request\n",
    "import json\n",
    "\n",
    "url = 'http://192.168.0.200:8080/api/board'\n",
    "data = { \n",
    "            'boardNo' : 1500,\n",
    "        }\n",
    "json_data = json.dumps(data).encode('utf-8')\n",
    "req = urllib.request.Request(url, data=json_data, method='DELETE')\n",
    "req.add_header('Content-Type', 'application/json')\n",
    "\n",
    "res = urllib.request.urlopen(req)\n",
    "result = res.read(100).decode('utf-8')\n",
    "print('-------------------------')\n",
    "print('JSON 데이터 DELETE 요청하기')\n",
    "print(f'status : {res.status}')\n",
    "print(f'result : {result}')\n"
   ]
  }
 ],
 "metadata": {
  "kernelspec": {
   "display_name": "Python 3",
   "language": "python",
   "name": "python3"
  },
  "language_info": {
   "codemirror_mode": {
    "name": "ipython",
    "version": 3
   },
   "file_extension": ".py",
   "mimetype": "text/x-python",
   "name": "python",
   "nbconvert_exporter": "python",
   "pygments_lexer": "ipython3",
   "version": "3.11.4"
  },
  "orig_nbformat": 4
 },
 "nbformat": 4,
 "nbformat_minor": 2
}
